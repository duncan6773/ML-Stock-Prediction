{
 "cells": [
  {
   "cell_type": "code",
   "execution_count": 10,
   "id": "6d185d2f",
   "metadata": {},
   "outputs": [],
   "source": [
    "import pandas as pd\n",
    "import numpy as np\n",
    "import matplotlib.pyplot as plt\n",
    "#convert all \n",
    "data_2014 = pd.read_csv(\"/Users/chinardankhara/Desktop/MLprojectStuff/2014_Financial_Data.csv\")\n",
    "data_2015 = pd.read_csv(\"/Users/chinardankhara/Desktop/MLprojectStuff/2015_Financial_Data.csv\")\n",
    "data_2016 = pd.read_csv(\"/Users/chinardankhara/Desktop/MLprojectStuff/2016_Financial_Data.csv\")\n",
    "data_2017 = pd.read_csv(\"/Users/chinardankhara/Desktop/MLprojectStuff/2017_Financial_Data.csv\")\n",
    "data_2018 = pd.read_csv(\"/Users/chinardankhara/Desktop/MLprojectStuff/2018_Financial_Data.csv\")\n"
   ]
  },
  {
   "cell_type": "code",
   "execution_count": 11,
   "id": "f32d023a",
   "metadata": {},
   "outputs": [],
   "source": [
    "#the companies are denoted by their stock ticker but the ticker column is unnamed\n",
    "#this cell renames that to \"Ticker\" for all dataframes\n",
    "data_2014.rename( columns={'Unnamed: 0':'Ticker'}, inplace=True )\n",
    "data_2015.rename( columns={'Unnamed: 0':'Ticker'}, inplace=True )\n",
    "data_2016.rename( columns={'Unnamed: 0':'Ticker'}, inplace=True )\n",
    "data_2017.rename( columns={'Unnamed: 0':'Ticker'}, inplace=True )\n",
    "data_2018.rename( columns={'Unnamed: 0':'Ticker'}, inplace=True )"
   ]
  },
  {
   "cell_type": "code",
   "execution_count": 34,
   "id": "7112bcbe",
   "metadata": {},
   "outputs": [
    {
     "data": {
      "text/plain": [
       "3726"
      ]
     },
     "execution_count": 34,
     "metadata": {},
     "output_type": "execute_result"
    }
   ],
   "source": [
    "#construct 5 different sets of ticker labels, 1 for eachh data frame\n",
    "ticker_set_2014 = set(data_2014[\"Ticker\"])\n",
    "ticker_set_2015 = set(data_2015[\"Ticker\"])\n",
    "ticker_set_2016 = set(data_2016[\"Ticker\"])\n",
    "ticker_set_2017 = set(data_2017[\"Ticker\"])\n",
    "ticker_set_2018 = set(data_2018[\"Ticker\"])\n",
    "#find the intersection of the sets. This limits us to those companies for whom we have data from all five years\n",
    "all_common_companies = list(set.intersection(ticker_set_2014, ticker_set_2015, ticker_set_2016, ticker_set_2017,\n",
    "                                        ticker_set_2018))\n",
    "#filter dataframes using the list of common companies we created above\n",
    "data_2014 = data_2014[data_2014[\"Ticker\"].isin(all_common_companies)]\n",
    "data_2015 = data_2015[data_2015[\"Ticker\"].isin(all_common_companies)]\n",
    "data_2016 = data_2016[data_2016[\"Ticker\"].isin(all_common_companies)]\n",
    "data_2017 = data_2017[data_2017[\"Ticker\"].isin(all_common_companies)]\n",
    "data_2018 = data_2018[data_2018[\"Ticker\"].isin(all_common_companies)]"
   ]
  },
  {
   "cell_type": "code",
   "execution_count": 54,
   "id": "f6511ea3",
   "metadata": {},
   "outputs": [],
   "source": [
    "#uncomment below to see full range of columnn vals\n",
    "#pd.set_option(\"display.max_rows\", 256)\n",
    "#uncomment each one to look at column data types for each table\n",
    "#data_2014.dtypes\n",
    "#data_2015.dtypes\n",
    "#data_2016.dtypes\n",
    "#data_2017.dtypes\n",
    "#data_2018.dtypes\n",
    "\n",
    "#this cell is for analysing what columns dont have one of the following values: int, float, str, datetime\n",
    "#any column that has a dtype not in the above list is difficult to analyse statistically\n",
    "#fortunately, all our data is of type int, float, or str"
   ]
  }
 ],
 "metadata": {
  "kernelspec": {
   "display_name": "Python 3",
   "language": "python",
   "name": "python3"
  },
  "language_info": {
   "codemirror_mode": {
    "name": "ipython",
    "version": 3
   },
   "file_extension": ".py",
   "mimetype": "text/x-python",
   "name": "python",
   "nbconvert_exporter": "python",
   "pygments_lexer": "ipython3",
   "version": "3.8.8"
  }
 },
 "nbformat": 4,
 "nbformat_minor": 5
}
